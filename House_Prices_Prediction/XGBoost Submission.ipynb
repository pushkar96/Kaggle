{
 "cells": [
  {
   "cell_type": "markdown",
   "metadata": {},
   "source": [
    "# XGBoost (Gradient Boosted Decision Trees) "
   ]
  },
  {
   "cell_type": "code",
   "execution_count": 1,
   "metadata": {
    "collapsed": true
   },
   "outputs": [],
   "source": [
    "import pandas as pd\n",
    "from sklearn.model_selection import train_test_split\n",
    "from sklearn.preprocessing import Imputer\n",
    "\n",
    "train_data = pd.read_csv('train.csv')\n",
    "submission_data = pd.read_csv('test.csv')\n",
    "\n",
    "#removing rows where sale price not available\n",
    "train_data.dropna(axis=0, subset=['SalePrice'], inplace=True)\n",
    "\n",
    "y = train_data.SalePrice\n",
    "X = train_data.drop(['SalePrice'], axis=1).select_dtypes(exclude=['object'])\n",
    "\n",
    "numeric_cols = [cname for cname in submission_data.columns if \n",
    "                                submission_data[cname].dtype in ['int64', 'float64']]\n",
    "submission_X = submission_data[numeric_cols]\n",
    "\n",
    "#print(type(y))\n",
    "#print(type(submission_X))"
   ]
  },
  {
   "cell_type": "code",
   "execution_count": 2,
   "metadata": {
    "collapsed": true
   },
   "outputs": [],
   "source": [
    "train_X, test_X, train_y, test_y = train_test_split(X, y.as_matrix(), test_size=0.25)\n",
    "\n",
    "my_imputer = Imputer()\n",
    "train_X = my_imputer.fit_transform(train_X)\n",
    "test_X = my_imputer.transform(test_X)\n",
    "submission_X = my_imputer.transform(submission_X)\n",
    "\n",
    "\n",
    "\n",
    "#rint(type(X))\n",
    "#print(type(submission_X))"
   ]
  },
  {
   "cell_type": "code",
   "execution_count": 3,
   "metadata": {},
   "outputs": [
    {
     "name": "stderr",
     "output_type": "stream",
     "text": [
      "/home/lazyowl/anaconda3/lib/python3.6/site-packages/sklearn/cross_validation.py:41: DeprecationWarning: This module was deprecated in version 0.18 in favor of the model_selection module into which all the refactored classes and functions are moved. Also note that the interface of the new CV iterators are different from that of this module. This module will be removed in 0.20.\n",
      "  \"This module will be removed in 0.20.\", DeprecationWarning)\n"
     ]
    },
    {
     "data": {
      "text/plain": [
       "XGBRegressor(base_score=0.5, colsample_bylevel=1, colsample_bytree=1, gamma=0,\n",
       "       learning_rate=0.1, max_delta_step=0, max_depth=3,\n",
       "       min_child_weight=1, missing=None, n_estimators=100, nthread=-1,\n",
       "       objective='reg:linear', reg_alpha=0, reg_lambda=1,\n",
       "       scale_pos_weight=1, seed=0, silent=True, subsample=1)"
      ]
     },
     "execution_count": 3,
     "metadata": {},
     "output_type": "execute_result"
    }
   ],
   "source": [
    "from xgboost import XGBRegressor\n",
    "\n",
    "my_model = XGBRegressor()\n",
    "# Add silent=True to avoid printing out updates with each cycle\n",
    "my_model.fit(train_X, train_y, verbose=False)"
   ]
  },
  {
   "cell_type": "code",
   "execution_count": 4,
   "metadata": {},
   "outputs": [
    {
     "name": "stdout",
     "output_type": "stream",
     "text": [
      "Mean Absolute Error : 16804.9110017\n"
     ]
    }
   ],
   "source": [
    "# make predictions\n",
    "predictions = my_model.predict(test_X)\n",
    "\n",
    "from sklearn.metrics import mean_absolute_error\n",
    "print(\"Mean Absolute Error : \" + str(mean_absolute_error(predictions, test_y)))"
   ]
  },
  {
   "cell_type": "markdown",
   "metadata": {},
   "source": [
    "## Tuning XGBoost"
   ]
  },
  {
   "cell_type": "code",
   "execution_count": 5,
   "metadata": {},
   "outputs": [
    {
     "name": "stdout",
     "output_type": "stream",
     "text": [
      "[0]\tvalidation_0-rmse:180127\n",
      "Will train until validation_0-rmse hasn't improved in 5 rounds.\n",
      "[1]\tvalidation_0-rmse:163178\n",
      "[2]\tvalidation_0-rmse:148071\n",
      "[3]\tvalidation_0-rmse:134366\n",
      "[4]\tvalidation_0-rmse:121776\n",
      "[5]\tvalidation_0-rmse:110703\n",
      "[6]\tvalidation_0-rmse:100909\n",
      "[7]\tvalidation_0-rmse:92121.5\n",
      "[8]\tvalidation_0-rmse:84530.7\n",
      "[9]\tvalidation_0-rmse:77713.8\n",
      "[10]\tvalidation_0-rmse:71691.8\n",
      "[11]\tvalidation_0-rmse:66388.2\n",
      "[12]\tvalidation_0-rmse:61786.9\n",
      "[13]\tvalidation_0-rmse:57560.1\n",
      "[14]\tvalidation_0-rmse:53787.1\n",
      "[15]\tvalidation_0-rmse:50706.8\n",
      "[16]\tvalidation_0-rmse:47694.1\n",
      "[17]\tvalidation_0-rmse:45319.8\n",
      "[18]\tvalidation_0-rmse:43072.9\n",
      "[19]\tvalidation_0-rmse:41381.9\n",
      "[20]\tvalidation_0-rmse:39911.9\n",
      "[21]\tvalidation_0-rmse:38732.7\n",
      "[22]\tvalidation_0-rmse:37664.2\n",
      "[23]\tvalidation_0-rmse:36774.1\n",
      "[24]\tvalidation_0-rmse:35932.8\n",
      "[25]\tvalidation_0-rmse:35426.6\n",
      "[26]\tvalidation_0-rmse:34881.3\n",
      "[27]\tvalidation_0-rmse:34474.7\n",
      "[28]\tvalidation_0-rmse:33931.6\n",
      "[29]\tvalidation_0-rmse:33562.1\n",
      "[30]\tvalidation_0-rmse:33386.9\n",
      "[31]\tvalidation_0-rmse:33088.4\n",
      "[32]\tvalidation_0-rmse:33052.9\n",
      "[33]\tvalidation_0-rmse:32769.1\n",
      "[34]\tvalidation_0-rmse:32490.8\n",
      "[35]\tvalidation_0-rmse:32374.1\n",
      "[36]\tvalidation_0-rmse:32155.6\n",
      "[37]\tvalidation_0-rmse:32025.8\n",
      "[38]\tvalidation_0-rmse:31913.8\n",
      "[39]\tvalidation_0-rmse:31861.6\n",
      "[40]\tvalidation_0-rmse:31818.9\n",
      "[41]\tvalidation_0-rmse:31804.6\n",
      "[42]\tvalidation_0-rmse:31828.3\n",
      "[43]\tvalidation_0-rmse:31754.1\n",
      "[44]\tvalidation_0-rmse:31623.9\n",
      "[45]\tvalidation_0-rmse:31531\n",
      "[46]\tvalidation_0-rmse:31564\n",
      "[47]\tvalidation_0-rmse:31484.5\n",
      "[48]\tvalidation_0-rmse:31398.5\n",
      "[49]\tvalidation_0-rmse:31343.3\n",
      "[50]\tvalidation_0-rmse:31393.6\n",
      "[51]\tvalidation_0-rmse:31417\n",
      "[52]\tvalidation_0-rmse:31357.8\n",
      "[53]\tvalidation_0-rmse:31318.1\n",
      "[54]\tvalidation_0-rmse:31300.7\n",
      "[55]\tvalidation_0-rmse:31288.9\n",
      "[56]\tvalidation_0-rmse:31304.5\n",
      "[57]\tvalidation_0-rmse:31275.6\n",
      "[58]\tvalidation_0-rmse:31260.2\n",
      "[59]\tvalidation_0-rmse:31418.1\n",
      "[60]\tvalidation_0-rmse:31305.5\n",
      "[61]\tvalidation_0-rmse:31275.9\n",
      "[62]\tvalidation_0-rmse:31286.2\n",
      "[63]\tvalidation_0-rmse:31262\n",
      "Stopping. Best iteration:\n",
      "[58]\tvalidation_0-rmse:31260.2\n",
      "\n"
     ]
    },
    {
     "data": {
      "text/plain": [
       "XGBRegressor(base_score=0.5, colsample_bylevel=1, colsample_bytree=1, gamma=0,\n",
       "       learning_rate=0.1, max_delta_step=0, max_depth=3,\n",
       "       min_child_weight=1, missing=None, n_estimators=1000, nthread=-1,\n",
       "       objective='reg:linear', reg_alpha=0, reg_lambda=1,\n",
       "       scale_pos_weight=1, seed=0, silent=True, subsample=1)"
      ]
     },
     "execution_count": 5,
     "metadata": {},
     "output_type": "execute_result"
    }
   ],
   "source": [
    "#adding n_estimators and early_stopping_rounds\n",
    "my_model = XGBRegressor(n_estimators=1000)\n",
    "my_model.fit(train_X, train_y, early_stopping_rounds=5, \n",
    "             eval_set=[(test_X, test_y)])"
   ]
  },
  {
   "cell_type": "code",
   "execution_count": 6,
   "metadata": {},
   "outputs": [
    {
     "data": {
      "text/plain": [
       "XGBRegressor(base_score=0.5, colsample_bylevel=1, colsample_bytree=1, gamma=0,\n",
       "       learning_rate=0.1, max_delta_step=0, max_depth=3,\n",
       "       min_child_weight=1, missing=None, n_estimators=1000, nthread=-1,\n",
       "       objective='reg:linear', reg_alpha=0, reg_lambda=1,\n",
       "       scale_pos_weight=1, seed=0, silent=True, subsample=1)"
      ]
     },
     "execution_count": 6,
     "metadata": {},
     "output_type": "execute_result"
    }
   ],
   "source": [
    "# iteration 72 is best \n",
    "my_model = XGBRegressor(n_estimators=1000)\n",
    "# Add silent=True to avoid printing out updates with each cycle\n",
    "#this is done to prevent leaky validation stratregy\n",
    "X = my_imputer.fit_transform(X)\n",
    "my_model.fit(X, y, verbose=False)"
   ]
  },
  {
   "cell_type": "code",
   "execution_count": 7,
   "metadata": {},
   "outputs": [
    {
     "name": "stdout",
     "output_type": "stream",
     "text": [
      "(1460, 37)\n",
      "(1459, 37)\n"
     ]
    }
   ],
   "source": [
    "print(X.shape)\n",
    "print(submission_X.shape)"
   ]
  },
  {
   "cell_type": "code",
   "execution_count": 8,
   "metadata": {},
   "outputs": [
    {
     "name": "stdout",
     "output_type": "stream",
     "text": [
      "[ 124559.5625    165771.921875  183148.75     ...,  175554.578125\n",
      "  107897.734375  231158.59375 ]\n"
     ]
    }
   ],
   "source": [
    "# Use the model to make predictions\n",
    "predicted_prices = my_model.predict(submission_X)\n",
    "# We will look at the predicted prices to ensure we have something sensible.\n",
    "print(predicted_prices)"
   ]
  },
  {
   "cell_type": "markdown",
   "metadata": {},
   "source": [
    "# Submission"
   ]
  },
  {
   "cell_type": "code",
   "execution_count": 9,
   "metadata": {
    "collapsed": true
   },
   "outputs": [],
   "source": [
    "my_submission = pd.DataFrame({'Id': submission_data.Id, 'SalePrice': predicted_prices})\n",
    "# you could use any filename. We choose submission here\n",
    "my_submission.to_csv('submission_XGBoost.csv', index=False)"
   ]
  },
  {
   "cell_type": "code",
   "execution_count": null,
   "metadata": {
    "collapsed": true
   },
   "outputs": [],
   "source": []
  }
 ],
 "metadata": {
  "kernelspec": {
   "display_name": "Python [conda root]",
   "language": "python",
   "name": "conda-root-py"
  },
  "language_info": {
   "codemirror_mode": {
    "name": "ipython",
    "version": 3
   },
   "file_extension": ".py",
   "mimetype": "text/x-python",
   "name": "python",
   "nbconvert_exporter": "python",
   "pygments_lexer": "ipython3",
   "version": "3.6.3"
  }
 },
 "nbformat": 4,
 "nbformat_minor": 2
}
