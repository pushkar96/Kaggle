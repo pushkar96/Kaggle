{
 "cells": [
  {
   "cell_type": "markdown",
   "metadata": {},
   "source": [
    "# XGBoost (Gradient Boosted Decision Trees) "
   ]
  },
  {
   "cell_type": "code",
   "execution_count": 1,
   "metadata": {},
   "outputs": [],
   "source": [
    "import pandas as pd\n",
    "from sklearn.model_selection import train_test_split\n",
    "from sklearn.preprocessing import Imputer\n",
    "\n",
    "train_data = pd.read_csv('train.csv')\n",
    "submission_data = pd.read_csv('test.csv')\n",
    "\n",
    "#removing rows where sale price not available\n",
    "train_data.dropna(axis=0, subset=['SalePrice'], inplace=True)\n",
    "\n",
    "y = train_data.SalePrice\n",
    "X = train_data.drop(['SalePrice'], axis=1).select_dtypes(exclude=['object'])\n",
    "\n",
    "numeric_cols = [cname for cname in submission_data.columns if \n",
    "                                submission_data[cname].dtype in ['int64', 'float64']]\n",
    "submission_X = submission_data[numeric_cols]\n",
    "\n",
    "#print(type(y))\n",
    "#print(type(submission_X))"
   ]
  },
  {
   "cell_type": "code",
   "execution_count": 2,
   "metadata": {
    "collapsed": true
   },
   "outputs": [],
   "source": [
    "train_X, test_X, train_y, test_y = train_test_split(X, y.as_matrix(), test_size=0.25)\n",
    "\n",
    "my_imputer = Imputer()\n",
    "train_X = my_imputer.fit_transform(train_X)\n",
    "test_X = my_imputer.transform(test_X)\n",
    "submission_X = my_imputer.transform(submission_X)\n",
    "\n",
    "\n",
    "\n",
    "#rint(type(X))\n",
    "#print(type(submission_X))"
   ]
  },
  {
   "cell_type": "code",
   "execution_count": 3,
   "metadata": {},
   "outputs": [
    {
     "name": "stderr",
     "output_type": "stream",
     "text": [
      "/home/lazyowl/anaconda3/lib/python3.6/site-packages/sklearn/cross_validation.py:41: DeprecationWarning: This module was deprecated in version 0.18 in favor of the model_selection module into which all the refactored classes and functions are moved. Also note that the interface of the new CV iterators are different from that of this module. This module will be removed in 0.20.\n",
      "  \"This module will be removed in 0.20.\", DeprecationWarning)\n"
     ]
    },
    {
     "data": {
      "text/plain": [
       "XGBRegressor(base_score=0.5, colsample_bylevel=1, colsample_bytree=1, gamma=0,\n",
       "       learning_rate=0.1, max_delta_step=0, max_depth=3,\n",
       "       min_child_weight=1, missing=None, n_estimators=100, nthread=-1,\n",
       "       objective='reg:linear', reg_alpha=0, reg_lambda=1,\n",
       "       scale_pos_weight=1, seed=0, silent=True, subsample=1)"
      ]
     },
     "execution_count": 3,
     "metadata": {},
     "output_type": "execute_result"
    }
   ],
   "source": [
    "from xgboost import XGBRegressor\n",
    "\n",
    "my_model = XGBRegressor()\n",
    "# Add silent=True to avoid printing out updates with each cycle\n",
    "my_model.fit(train_X, train_y, verbose=False)"
   ]
  },
  {
   "cell_type": "code",
   "execution_count": 4,
   "metadata": {},
   "outputs": [
    {
     "name": "stdout",
     "output_type": "stream",
     "text": [
      "Mean Absolute Error : 16745.1397795\n"
     ]
    }
   ],
   "source": [
    "# make predictions\n",
    "predictions = my_model.predict(test_X)\n",
    "\n",
    "from sklearn.metrics import mean_absolute_error\n",
    "print(\"Mean Absolute Error : \" + str(mean_absolute_error(predictions, test_y)))"
   ]
  },
  {
   "cell_type": "markdown",
   "metadata": {},
   "source": [
    "## Tuning XGBoost"
   ]
  },
  {
   "cell_type": "code",
   "execution_count": 5,
   "metadata": {},
   "outputs": [
    {
     "name": "stdout",
     "output_type": "stream",
     "text": [
      "[0]\tvalidation_0-rmse:173945\n",
      "Will train until validation_0-rmse hasn't improved in 5 rounds.\n",
      "[1]\tvalidation_0-rmse:158032\n",
      "[2]\tvalidation_0-rmse:143739\n",
      "[3]\tvalidation_0-rmse:131149\n",
      "[4]\tvalidation_0-rmse:119581\n",
      "[5]\tvalidation_0-rmse:109156\n",
      "[6]\tvalidation_0-rmse:99921.6\n",
      "[7]\tvalidation_0-rmse:91262.7\n",
      "[8]\tvalidation_0-rmse:84303.6\n",
      "[9]\tvalidation_0-rmse:77430.7\n",
      "[10]\tvalidation_0-rmse:71938.9\n",
      "[11]\tvalidation_0-rmse:66770.5\n",
      "[12]\tvalidation_0-rmse:62565.4\n",
      "[13]\tvalidation_0-rmse:58469.7\n",
      "[14]\tvalidation_0-rmse:54934.7\n",
      "[15]\tvalidation_0-rmse:51896.2\n",
      "[16]\tvalidation_0-rmse:49037.4\n",
      "[17]\tvalidation_0-rmse:46622.8\n",
      "[18]\tvalidation_0-rmse:44883.8\n",
      "[19]\tvalidation_0-rmse:42801.4\n",
      "[20]\tvalidation_0-rmse:41205\n",
      "[21]\tvalidation_0-rmse:39729.8\n",
      "[22]\tvalidation_0-rmse:38328.2\n",
      "[23]\tvalidation_0-rmse:37448.6\n",
      "[24]\tvalidation_0-rmse:36593.5\n",
      "[25]\tvalidation_0-rmse:35607\n",
      "[26]\tvalidation_0-rmse:34892.4\n",
      "[27]\tvalidation_0-rmse:34332.4\n",
      "[28]\tvalidation_0-rmse:33891.4\n",
      "[29]\tvalidation_0-rmse:33487.3\n",
      "[30]\tvalidation_0-rmse:33264.4\n",
      "[31]\tvalidation_0-rmse:32920\n",
      "[32]\tvalidation_0-rmse:32487.8\n",
      "[33]\tvalidation_0-rmse:32223.6\n",
      "[34]\tvalidation_0-rmse:31827.2\n",
      "[35]\tvalidation_0-rmse:31659.2\n",
      "[36]\tvalidation_0-rmse:31369.3\n",
      "[37]\tvalidation_0-rmse:31089.8\n",
      "[38]\tvalidation_0-rmse:30930.7\n",
      "[39]\tvalidation_0-rmse:30684.1\n",
      "[40]\tvalidation_0-rmse:30620.5\n",
      "[41]\tvalidation_0-rmse:30436.9\n",
      "[42]\tvalidation_0-rmse:30231.5\n",
      "[43]\tvalidation_0-rmse:30167.7\n",
      "[44]\tvalidation_0-rmse:30063.4\n",
      "[45]\tvalidation_0-rmse:30007.2\n",
      "[46]\tvalidation_0-rmse:29946.7\n",
      "[47]\tvalidation_0-rmse:29902.1\n",
      "[48]\tvalidation_0-rmse:29780.7\n",
      "[49]\tvalidation_0-rmse:29725.4\n",
      "[50]\tvalidation_0-rmse:29522.1\n",
      "[51]\tvalidation_0-rmse:29486\n",
      "[52]\tvalidation_0-rmse:29439.2\n",
      "[53]\tvalidation_0-rmse:29288.3\n",
      "[54]\tvalidation_0-rmse:29253.4\n",
      "[55]\tvalidation_0-rmse:29121.1\n",
      "[56]\tvalidation_0-rmse:29076.9\n",
      "[57]\tvalidation_0-rmse:29010.4\n",
      "[58]\tvalidation_0-rmse:28954.9\n",
      "[59]\tvalidation_0-rmse:28910.3\n",
      "[60]\tvalidation_0-rmse:28882.5\n",
      "[61]\tvalidation_0-rmse:28731\n",
      "[62]\tvalidation_0-rmse:28711.2\n",
      "[63]\tvalidation_0-rmse:28609.4\n",
      "[64]\tvalidation_0-rmse:28646.9\n",
      "[65]\tvalidation_0-rmse:28628.1\n",
      "[66]\tvalidation_0-rmse:28622.4\n",
      "[67]\tvalidation_0-rmse:28544.2\n",
      "[68]\tvalidation_0-rmse:28517\n",
      "[69]\tvalidation_0-rmse:28510.4\n",
      "[70]\tvalidation_0-rmse:28488.4\n",
      "[71]\tvalidation_0-rmse:28370.9\n",
      "[72]\tvalidation_0-rmse:28395.6\n",
      "[73]\tvalidation_0-rmse:28376.7\n",
      "[74]\tvalidation_0-rmse:28398.8\n",
      "[75]\tvalidation_0-rmse:28374.3\n",
      "[76]\tvalidation_0-rmse:28368.9\n",
      "[77]\tvalidation_0-rmse:28374.4\n",
      "[78]\tvalidation_0-rmse:28363.1\n",
      "[79]\tvalidation_0-rmse:28333.6\n",
      "[80]\tvalidation_0-rmse:28255.1\n",
      "[81]\tvalidation_0-rmse:28261.8\n",
      "[82]\tvalidation_0-rmse:28259.1\n",
      "[83]\tvalidation_0-rmse:28257.7\n",
      "[84]\tvalidation_0-rmse:28292.1\n",
      "[85]\tvalidation_0-rmse:28247.5\n",
      "[86]\tvalidation_0-rmse:28350.6\n",
      "[87]\tvalidation_0-rmse:28339.5\n",
      "[88]\tvalidation_0-rmse:28315.6\n",
      "[89]\tvalidation_0-rmse:28324.1\n",
      "[90]\tvalidation_0-rmse:28345.8\n",
      "Stopping. Best iteration:\n",
      "[85]\tvalidation_0-rmse:28247.5\n",
      "\n"
     ]
    },
    {
     "data": {
      "text/plain": [
       "XGBRegressor(base_score=0.5, colsample_bylevel=1, colsample_bytree=1, gamma=0,\n",
       "       learning_rate=0.1, max_delta_step=0, max_depth=3,\n",
       "       min_child_weight=1, missing=None, n_estimators=1000, nthread=-1,\n",
       "       objective='reg:linear', reg_alpha=0, reg_lambda=1,\n",
       "       scale_pos_weight=1, seed=0, silent=True, subsample=1)"
      ]
     },
     "execution_count": 5,
     "metadata": {},
     "output_type": "execute_result"
    }
   ],
   "source": [
    "#adding n_estimators and early_stopping_rounds\n",
    "my_model = XGBRegressor(n_estimators=1000)\n",
    "my_model.fit(train_X, train_y, early_stopping_rounds=5, \n",
    "             eval_set=[(test_X, test_y)])"
   ]
  },
  {
   "cell_type": "code",
   "execution_count": 6,
   "metadata": {},
   "outputs": [
    {
     "data": {
      "text/plain": [
       "XGBRegressor(base_score=0.5, colsample_bylevel=1, colsample_bytree=1, gamma=0,\n",
       "       learning_rate=0.1, max_delta_step=0, max_depth=3,\n",
       "       min_child_weight=1, missing=None, n_estimators=110, nthread=-1,\n",
       "       objective='reg:linear', reg_alpha=0, reg_lambda=1,\n",
       "       scale_pos_weight=1, seed=0, silent=True, subsample=1)"
      ]
     },
     "execution_count": 6,
     "metadata": {},
     "output_type": "execute_result"
    }
   ],
   "source": [
    "# iteration 72 is best \n",
    "my_model = XGBRegressor(n_estimators=110)\n",
    "# Add silent=True to avoid printing out updates with each cycle\n",
    "#this is done to prevent leaky validation stratregy\n",
    "X = my_imputer.fit_transform(X)\n",
    "my_model.fit(X, y, verbose=False)"
   ]
  },
  {
   "cell_type": "code",
   "execution_count": 7,
   "metadata": {},
   "outputs": [
    {
     "name": "stdout",
     "output_type": "stream",
     "text": [
      "(1460, 37)\n",
      "(1459, 37)\n"
     ]
    }
   ],
   "source": [
    "print(X.shape)\n",
    "print(submission_X.shape)"
   ]
  },
  {
   "cell_type": "code",
   "execution_count": 8,
   "metadata": {},
   "outputs": [
    {
     "name": "stdout",
     "output_type": "stream",
     "text": [
      "[ 125856.7421875  160742.078125   177234.4375    ...,  178432.8125\n",
      "  119145.359375   237922.515625 ]\n"
     ]
    }
   ],
   "source": [
    "# Use the model to make predictions\n",
    "predicted_prices = my_model.predict(submission_X)\n",
    "# We will look at the predicted prices to ensure we have something sensible.\n",
    "print(predicted_prices)"
   ]
  },
  {
   "cell_type": "markdown",
   "metadata": {},
   "source": [
    "# Submission"
   ]
  },
  {
   "cell_type": "code",
   "execution_count": 9,
   "metadata": {
    "collapsed": true
   },
   "outputs": [],
   "source": [
    "my_submission = pd.DataFrame({'Id': submission_data.Id, 'SalePrice': predicted_prices})\n",
    "# you could use any filename. We choose submission here\n",
    "my_submission.to_csv('submission_XGBoost.csv', index=False)"
   ]
  },
  {
   "cell_type": "code",
   "execution_count": null,
   "metadata": {
    "collapsed": true
   },
   "outputs": [],
   "source": []
  }
 ],
 "metadata": {
  "kernelspec": {
   "display_name": "Python [conda root]",
   "language": "python",
   "name": "conda-root-py"
  },
  "language_info": {
   "codemirror_mode": {
    "name": "ipython",
    "version": 3
   },
   "file_extension": ".py",
   "mimetype": "text/x-python",
   "name": "python",
   "nbconvert_exporter": "python",
   "pygments_lexer": "ipython3",
   "version": "3.6.3"
  }
 },
 "nbformat": 4,
 "nbformat_minor": 2
}
