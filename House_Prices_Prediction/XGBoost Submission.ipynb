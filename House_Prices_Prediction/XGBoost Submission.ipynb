{
 "cells": [
  {
   "cell_type": "markdown",
   "metadata": {},
   "source": [
    "# XGBoost (Gradient Boosted Decision Trees) "
   ]
  },
  {
   "cell_type": "code",
   "execution_count": 24,
   "metadata": {},
   "outputs": [
    {
     "name": "stdout",
     "output_type": "stream",
     "text": [
      "<class 'pandas.core.series.Series'>\n",
      "<class 'pandas.core.frame.DataFrame'>\n"
     ]
    }
   ],
   "source": [
    "import pandas as pd\n",
    "from sklearn.model_selection import train_test_split\n",
    "from sklearn.preprocessing import Imputer\n",
    "\n",
    "train_data = pd.read_csv('train.csv')\n",
    "submission_data = pd.read_csv('test.csv')\n",
    "\n",
    "#removing rows where sale price not available\n",
    "train_data.dropna(axis=0, subset=['SalePrice'], inplace=True)\n",
    "\n",
    "y = train_data.SalePrice\n",
    "X = train_data.drop(['SalePrice'], axis=1).select_dtypes(exclude=['object'])\n",
    "\n",
    "numeric_cols = [cname for cname in submission_data.columns if \n",
    "                                submission_data[cname].dtype in ['int64', 'float64']]\n",
    "submission_X = submission_data[numeric_cols]\n",
    "\n",
    "#print(type(y))\n",
    "#print(type(submission_X))"
   ]
  },
  {
   "cell_type": "code",
   "execution_count": 30,
   "metadata": {},
   "outputs": [],
   "source": [
    "train_X, test_X, train_y, test_y = train_test_split(X, y.as_matrix(), test_size=0.25)\n",
    "\n",
    "my_imputer = Imputer()\n",
    "train_X = my_imputer.fit_transform(train_X)\n",
    "test_X = my_imputer.transform(test_X)\n",
    "\n",
    "X = my_imputer.transform(X)\n",
    "submission_X = my_imputer.transform(submission_X)\n",
    "#rint(type(X))\n",
    "#print(type(submission_X))"
   ]
  },
  {
   "cell_type": "code",
   "execution_count": 31,
   "metadata": {},
   "outputs": [
    {
     "data": {
      "text/plain": [
       "XGBRegressor(base_score=0.5, colsample_bylevel=1, colsample_bytree=1, gamma=0,\n",
       "       learning_rate=0.1, max_delta_step=0, max_depth=3,\n",
       "       min_child_weight=1, missing=None, n_estimators=100, nthread=-1,\n",
       "       objective='reg:linear', reg_alpha=0, reg_lambda=1,\n",
       "       scale_pos_weight=1, seed=0, silent=True, subsample=1)"
      ]
     },
     "execution_count": 31,
     "metadata": {},
     "output_type": "execute_result"
    }
   ],
   "source": [
    "from xgboost import XGBRegressor\n",
    "\n",
    "my_model = XGBRegressor()\n",
    "# Add silent=True to avoid printing out updates with each cycle\n",
    "my_model.fit(train_X, train_y, verbose=False)"
   ]
  },
  {
   "cell_type": "code",
   "execution_count": 32,
   "metadata": {},
   "outputs": [
    {
     "name": "stdout",
     "output_type": "stream",
     "text": [
      "Mean Absolute Error : 17341.1435146\n"
     ]
    }
   ],
   "source": [
    "# make predictions\n",
    "predictions = my_model.predict(test_X)\n",
    "\n",
    "from sklearn.metrics import mean_absolute_error\n",
    "print(\"Mean Absolute Error : \" + str(mean_absolute_error(predictions, test_y)))"
   ]
  },
  {
   "cell_type": "markdown",
   "metadata": {},
   "source": [
    "## Tuning XGBoost"
   ]
  },
  {
   "cell_type": "code",
   "execution_count": 33,
   "metadata": {
    "collapsed": true
   },
   "outputs": [
    {
     "name": "stdout",
     "output_type": "stream",
     "text": [
      "[0]\tvalidation_0-rmse:181177\n",
      "Will train until validation_0-rmse hasn't improved in 5 rounds.\n",
      "[1]\tvalidation_0-rmse:164963\n",
      "[2]\tvalidation_0-rmse:149616\n",
      "[3]\tvalidation_0-rmse:136303\n",
      "[4]\tvalidation_0-rmse:124758\n",
      "[5]\tvalidation_0-rmse:114405\n",
      "[6]\tvalidation_0-rmse:105115\n",
      "[7]\tvalidation_0-rmse:96766.4\n",
      "[8]\tvalidation_0-rmse:89335.2\n",
      "[9]\tvalidation_0-rmse:82607.6\n",
      "[10]\tvalidation_0-rmse:76919.9\n",
      "[11]\tvalidation_0-rmse:71790.4\n",
      "[12]\tvalidation_0-rmse:67176.9\n",
      "[13]\tvalidation_0-rmse:63048.6\n",
      "[14]\tvalidation_0-rmse:59472.9\n",
      "[15]\tvalidation_0-rmse:56403.7\n",
      "[16]\tvalidation_0-rmse:53889.9\n",
      "[17]\tvalidation_0-rmse:51593.5\n",
      "[18]\tvalidation_0-rmse:49582.4\n",
      "[19]\tvalidation_0-rmse:47969.7\n",
      "[20]\tvalidation_0-rmse:46531.2\n",
      "[21]\tvalidation_0-rmse:45050.2\n",
      "[22]\tvalidation_0-rmse:43583.5\n",
      "[23]\tvalidation_0-rmse:42108.3\n",
      "[24]\tvalidation_0-rmse:41427.7\n",
      "[25]\tvalidation_0-rmse:40973\n",
      "[26]\tvalidation_0-rmse:40338.4\n",
      "[27]\tvalidation_0-rmse:39894.4\n",
      "[28]\tvalidation_0-rmse:39498.5\n",
      "[29]\tvalidation_0-rmse:38721.8\n",
      "[30]\tvalidation_0-rmse:38134.4\n",
      "[31]\tvalidation_0-rmse:37745.9\n",
      "[32]\tvalidation_0-rmse:37332\n",
      "[33]\tvalidation_0-rmse:37075.9\n",
      "[34]\tvalidation_0-rmse:36906.9\n",
      "[35]\tvalidation_0-rmse:36663.3\n",
      "[36]\tvalidation_0-rmse:36419.6\n",
      "[37]\tvalidation_0-rmse:36296.5\n",
      "[38]\tvalidation_0-rmse:36124.3\n",
      "[39]\tvalidation_0-rmse:35641\n",
      "[40]\tvalidation_0-rmse:35403.2\n",
      "[41]\tvalidation_0-rmse:34984.6\n",
      "[42]\tvalidation_0-rmse:34618.4\n",
      "[43]\tvalidation_0-rmse:34734.1\n",
      "[44]\tvalidation_0-rmse:34620.8\n",
      "[45]\tvalidation_0-rmse:34448.4\n",
      "[46]\tvalidation_0-rmse:34438.7\n",
      "[47]\tvalidation_0-rmse:34380.2\n",
      "[48]\tvalidation_0-rmse:34105.4\n",
      "[49]\tvalidation_0-rmse:34062.5\n",
      "[50]\tvalidation_0-rmse:33997.5\n",
      "[51]\tvalidation_0-rmse:33942.9\n",
      "[52]\tvalidation_0-rmse:33938.8\n",
      "[53]\tvalidation_0-rmse:34104.4\n",
      "[54]\tvalidation_0-rmse:33985.1\n",
      "[55]\tvalidation_0-rmse:33892.4\n",
      "[56]\tvalidation_0-rmse:33832.6\n",
      "[57]\tvalidation_0-rmse:33775.2\n",
      "[58]\tvalidation_0-rmse:33853.8\n",
      "[59]\tvalidation_0-rmse:34027.1\n",
      "[60]\tvalidation_0-rmse:33930.8\n",
      "[61]\tvalidation_0-rmse:33780.6\n",
      "[62]\tvalidation_0-rmse:33684.1\n",
      "[63]\tvalidation_0-rmse:33622\n",
      "[64]\tvalidation_0-rmse:33532.1\n",
      "[65]\tvalidation_0-rmse:33372.2\n",
      "[66]\tvalidation_0-rmse:33331.3\n",
      "[67]\tvalidation_0-rmse:33350.5\n",
      "[68]\tvalidation_0-rmse:33301.2\n",
      "[69]\tvalidation_0-rmse:33323.2\n",
      "[70]\tvalidation_0-rmse:33299.8\n",
      "[71]\tvalidation_0-rmse:33149.8\n",
      "[72]\tvalidation_0-rmse:33155.7\n",
      "[73]\tvalidation_0-rmse:33106.8\n",
      "[74]\tvalidation_0-rmse:33070\n",
      "[75]\tvalidation_0-rmse:32907.8\n",
      "[76]\tvalidation_0-rmse:32913.3\n",
      "[77]\tvalidation_0-rmse:32829\n",
      "[78]\tvalidation_0-rmse:32816.5\n",
      "[79]\tvalidation_0-rmse:32846.9\n",
      "[80]\tvalidation_0-rmse:32833.8\n",
      "[81]\tvalidation_0-rmse:32825\n",
      "[82]\tvalidation_0-rmse:32790.6\n",
      "[83]\tvalidation_0-rmse:32768.8\n",
      "[84]\tvalidation_0-rmse:32869.5\n",
      "[85]\tvalidation_0-rmse:32843.5\n",
      "[86]\tvalidation_0-rmse:32858.2\n",
      "[87]\tvalidation_0-rmse:32866\n",
      "[88]\tvalidation_0-rmse:32787.7\n",
      "Stopping. Best iteration:\n",
      "[83]\tvalidation_0-rmse:32768.8\n",
      "\n"
     ]
    },
    {
     "data": {
      "text/plain": [
       "XGBRegressor(base_score=0.5, colsample_bylevel=1, colsample_bytree=1, gamma=0,\n",
       "       learning_rate=0.1, max_delta_step=0, max_depth=3,\n",
       "       min_child_weight=1, missing=None, n_estimators=1000, nthread=-1,\n",
       "       objective='reg:linear', reg_alpha=0, reg_lambda=1,\n",
       "       scale_pos_weight=1, seed=0, silent=True, subsample=1)"
      ]
     },
     "execution_count": 33,
     "metadata": {},
     "output_type": "execute_result"
    }
   ],
   "source": [
    "#adding n_estimators and early_stopping_rounds\n",
    "my_model = XGBRegressor(n_estimators=1000)\n",
    "my_model.fit(train_X, train_y, early_stopping_rounds=5, \n",
    "             eval_set=[(test_X, test_y)])"
   ]
  },
  {
   "cell_type": "code",
   "execution_count": 42,
   "metadata": {},
   "outputs": [
    {
     "data": {
      "text/plain": [
       "XGBRegressor(base_score=0.5, colsample_bylevel=1, colsample_bytree=1, gamma=0,\n",
       "       learning_rate=0.1, max_delta_step=0, max_depth=3,\n",
       "       min_child_weight=1, missing=None, n_estimators=110, nthread=-1,\n",
       "       objective='reg:linear', reg_alpha=0, reg_lambda=1,\n",
       "       scale_pos_weight=1, seed=0, silent=True, subsample=1)"
      ]
     },
     "execution_count": 42,
     "metadata": {},
     "output_type": "execute_result"
    }
   ],
   "source": [
    "# iteration 72 is best \n",
    "my_model = XGBRegressor(n_estimators=110)\n",
    "# Add silent=True to avoid printing out updates with each cycle\n",
    "my_model.fit(X, y, verbose=False)"
   ]
  },
  {
   "cell_type": "code",
   "execution_count": 40,
   "metadata": {},
   "outputs": [
    {
     "name": "stdout",
     "output_type": "stream",
     "text": [
      "(1460, 37)\n",
      "(1459, 37)\n"
     ]
    }
   ],
   "source": [
    "print(X.shape)\n",
    "print(submission_X.shape)"
   ]
  },
  {
   "cell_type": "code",
   "execution_count": 43,
   "metadata": {},
   "outputs": [
    {
     "name": "stdout",
     "output_type": "stream",
     "text": [
      "[ 125856.7421875  160742.078125   177234.4375    ...,  178432.8125\n",
      "  119145.359375   237922.515625 ]\n"
     ]
    }
   ],
   "source": [
    "# Use the model to make predictions\n",
    "predicted_prices = my_model.predict(submission_X)\n",
    "# We will look at the predicted prices to ensure we have something sensible.\n",
    "print(predicted_prices)"
   ]
  },
  {
   "cell_type": "markdown",
   "metadata": {},
   "source": [
    "# Submission"
   ]
  },
  {
   "cell_type": "code",
   "execution_count": 44,
   "metadata": {
    "collapsed": true
   },
   "outputs": [],
   "source": [
    "my_submission = pd.DataFrame({'Id': submission_data.Id, 'SalePrice': predicted_prices})\n",
    "# you could use any filename. We choose submission here\n",
    "my_submission.to_csv('submission_XGBoost.csv', index=False)"
   ]
  },
  {
   "cell_type": "code",
   "execution_count": null,
   "metadata": {
    "collapsed": true
   },
   "outputs": [],
   "source": []
  }
 ],
 "metadata": {
  "kernelspec": {
   "display_name": "Python [conda root]",
   "language": "python",
   "name": "conda-root-py"
  },
  "language_info": {
   "codemirror_mode": {
    "name": "ipython",
    "version": 3
   },
   "file_extension": ".py",
   "mimetype": "text/x-python",
   "name": "python",
   "nbconvert_exporter": "python",
   "pygments_lexer": "ipython3",
   "version": "3.6.3"
  }
 },
 "nbformat": 4,
 "nbformat_minor": 2
}
